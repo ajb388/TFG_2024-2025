{
 "cells": [
  {
   "cell_type": "code",
   "execution_count": 2,
   "metadata": {},
   "outputs": [
    {
     "name": "stdout",
     "output_type": "stream",
     "text": [
      "Requirement already satisfied: pandas in c:\\users\\adril\\appdata\\local\\programs\\python\\python313\\lib\\site-packages (2.2.3)\n",
      "Requirement already satisfied: numpy>=1.26.0 in c:\\users\\adril\\appdata\\local\\programs\\python\\python313\\lib\\site-packages (from pandas) (2.1.3)\n",
      "Requirement already satisfied: python-dateutil>=2.8.2 in c:\\users\\adril\\appdata\\roaming\\python\\python313\\site-packages (from pandas) (2.9.0.post0)\n",
      "Requirement already satisfied: pytz>=2020.1 in c:\\users\\adril\\appdata\\local\\programs\\python\\python313\\lib\\site-packages (from pandas) (2024.2)\n",
      "Requirement already satisfied: tzdata>=2022.7 in c:\\users\\adril\\appdata\\local\\programs\\python\\python313\\lib\\site-packages (from pandas) (2024.2)\n",
      "Requirement already satisfied: six>=1.5 in c:\\users\\adril\\appdata\\roaming\\python\\python313\\site-packages (from python-dateutil>=2.8.2->pandas) (1.16.0)\n",
      "Note: you may need to restart the kernel to use updated packages.\n"
     ]
    }
   ],
   "source": [
    "pip install pandas"
   ]
  },
  {
   "cell_type": "code",
   "execution_count": 1,
   "metadata": {},
   "outputs": [
    {
     "name": "stdout",
     "output_type": "stream",
     "text": [
      "Collecting opencv-python\n",
      "  Downloading opencv_python-4.10.0.84-cp37-abi3-win_amd64.whl.metadata (20 kB)\n",
      "Requirement already satisfied: numpy>=1.21.2 in c:\\users\\adril\\appdata\\local\\programs\\python\\python313\\lib\\site-packages (from opencv-python) (2.1.3)\n",
      "Downloading opencv_python-4.10.0.84-cp37-abi3-win_amd64.whl (38.8 MB)\n",
      "   ---------------------------------------- 0.0/38.8 MB ? eta -:--:--\n",
      "   - -------------------------------------- 1.3/38.8 MB 8.3 MB/s eta 0:00:05\n",
      "   --- ------------------------------------ 3.7/38.8 MB 9.5 MB/s eta 0:00:04\n",
      "   ----- ---------------------------------- 5.2/38.8 MB 9.2 MB/s eta 0:00:04\n",
      "   ------- -------------------------------- 7.6/38.8 MB 9.7 MB/s eta 0:00:04\n",
      "   ----------- ---------------------------- 11.0/38.8 MB 10.9 MB/s eta 0:00:03\n",
      "   -------------- ------------------------- 13.9/38.8 MB 11.6 MB/s eta 0:00:03\n",
      "   ----------------- ---------------------- 16.8/38.8 MB 11.9 MB/s eta 0:00:02\n",
      "   -------------------- ------------------- 19.7/38.8 MB 12.2 MB/s eta 0:00:02\n",
      "   ----------------------- ---------------- 22.8/38.8 MB 12.5 MB/s eta 0:00:02\n",
      "   -------------------------- ------------- 26.2/38.8 MB 12.9 MB/s eta 0:00:01\n",
      "   ------------------------------ --------- 29.4/38.8 MB 13.2 MB/s eta 0:00:01\n",
      "   ---------------------------------- ----- 33.0/38.8 MB 13.4 MB/s eta 0:00:01\n",
      "   ------------------------------------- -- 36.2/38.8 MB 13.6 MB/s eta 0:00:01\n",
      "   ---------------------------------------  38.8/38.8 MB 13.7 MB/s eta 0:00:01\n",
      "   ---------------------------------------- 38.8/38.8 MB 13.5 MB/s eta 0:00:00\n",
      "Installing collected packages: opencv-python\n",
      "Successfully installed opencv-python-4.10.0.84\n",
      "Note: you may need to restart the kernel to use updated packages.\n"
     ]
    }
   ],
   "source": [
    "pip install opencv-python"
   ]
  }
 ],
 "metadata": {
  "kernelspec": {
   "display_name": "Python 3",
   "language": "python",
   "name": "python3"
  },
  "language_info": {
   "codemirror_mode": {
    "name": "ipython",
    "version": 3
   },
   "file_extension": ".py",
   "mimetype": "text/x-python",
   "name": "python",
   "nbconvert_exporter": "python",
   "pygments_lexer": "ipython3",
   "version": "3.13.0"
  }
 },
 "nbformat": 4,
 "nbformat_minor": 2
}
